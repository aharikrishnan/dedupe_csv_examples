{
 "cells": [
  {
   "cell_type": "code",
   "execution_count": 1,
   "metadata": {
    "collapsed": true
   },
   "outputs": [],
   "source": [
    "import os\n",
    "import sys\n",
    "import pandas as pd\n",
    "import re\n",
    "\n",
    "import sys\n",
    "reload(sys)\n",
    "sys.setdefaultencoding(\"utf-8\")"
   ]
  },
  {
   "cell_type": "code",
   "execution_count": 3,
   "metadata": {
    "collapsed": true
   },
   "outputs": [],
   "source": [
    "def data_path(fname, base_path='/home/hari/ml/dedupe-examples'):\n",
    "    return base_path+'/'+fname"
   ]
  },
  {
   "cell_type": "markdown",
   "metadata": {},
   "source": [
    "```bash\n",
    "mysql -B -uroot -proot gem -e \"select distinct p.p_brand, p.p_model, pc.pc_cat_name, pc_parent.pc_cat_name as parent_pc_cat_name, count(*) as count_occurence from products p inner join product_categories pc on pc.pc_id=p.p_cat_id inner join product_categories pc_parent on pc.pc_parent_id=pc_parent.pc_id where p.p_status=1 group by pc.pc_cat_name, p.p_brand order by pc.pc_cat_name, count_occurence desc;\" > brands.tsv\n",
    "```"
   ]
  },
  {
   "cell_type": "code",
   "execution_count": 4,
   "metadata": {
    "collapsed": false
   },
   "outputs": [
    {
     "data": {
      "text/html": [
       "<div>\n",
       "<table border=\"1\" class=\"dataframe\">\n",
       "  <thead>\n",
       "    <tr style=\"text-align: right;\">\n",
       "      <th></th>\n",
       "      <th>p_brand</th>\n",
       "      <th>pc_cat_name</th>\n",
       "      <th>parent_pc_cat_name</th>\n",
       "      <th>count_occurence</th>\n",
       "    </tr>\n",
       "  </thead>\n",
       "  <tbody>\n",
       "    <tr>\n",
       "      <th>0</th>\n",
       "      <td>geeken</td>\n",
       "      <td>chairs-office</td>\n",
       "      <td>furniture</td>\n",
       "      <td>181</td>\n",
       "    </tr>\n",
       "    <tr>\n",
       "      <th>1</th>\n",
       "      <td>stellar</td>\n",
       "      <td>chairs-office</td>\n",
       "      <td>furniture</td>\n",
       "      <td>136</td>\n",
       "    </tr>\n",
       "    <tr>\n",
       "      <th>2</th>\n",
       "      <td>godrej</td>\n",
       "      <td>chairs-office</td>\n",
       "      <td>furniture</td>\n",
       "      <td>92</td>\n",
       "    </tr>\n",
       "    <tr>\n",
       "      <th>3</th>\n",
       "      <td>godrej interio</td>\n",
       "      <td>chairs-office</td>\n",
       "      <td>furniture</td>\n",
       "      <td>88</td>\n",
       "    </tr>\n",
       "    <tr>\n",
       "      <th>4</th>\n",
       "      <td>nilkamal</td>\n",
       "      <td>chairs-office</td>\n",
       "      <td>furniture</td>\n",
       "      <td>83</td>\n",
       "    </tr>\n",
       "    <tr>\n",
       "      <th>5</th>\n",
       "      <td>hans</td>\n",
       "      <td>chairs-office</td>\n",
       "      <td>furniture</td>\n",
       "      <td>76</td>\n",
       "    </tr>\n",
       "    <tr>\n",
       "      <th>6</th>\n",
       "      <td>vj interior</td>\n",
       "      <td>chairs-office</td>\n",
       "      <td>furniture</td>\n",
       "      <td>61</td>\n",
       "    </tr>\n",
       "    <tr>\n",
       "      <th>7</th>\n",
       "      <td>supreme</td>\n",
       "      <td>chairs-office</td>\n",
       "      <td>furniture</td>\n",
       "      <td>60</td>\n",
       "    </tr>\n",
       "    <tr>\n",
       "      <th>8</th>\n",
       "      <td>veeton</td>\n",
       "      <td>chairs-office</td>\n",
       "      <td>furniture</td>\n",
       "      <td>56</td>\n",
       "    </tr>\n",
       "    <tr>\n",
       "      <th>9</th>\n",
       "      <td>efc</td>\n",
       "      <td>chairs-office</td>\n",
       "      <td>furniture</td>\n",
       "      <td>52</td>\n",
       "    </tr>\n",
       "  </tbody>\n",
       "</table>\n",
       "</div>"
      ],
      "text/plain": [
       "          p_brand     pc_cat_name parent_pc_cat_name  count_occurence\n",
       "0          geeken   chairs-office          furniture              181\n",
       "1         stellar   chairs-office          furniture              136\n",
       "2          godrej   chairs-office          furniture               92\n",
       "3  godrej interio   chairs-office          furniture               88\n",
       "4        nilkamal   chairs-office          furniture               83\n",
       "5            hans   chairs-office          furniture               76\n",
       "6     vj interior   chairs-office          furniture               61\n",
       "7         supreme   chairs-office          furniture               60\n",
       "8          veeton   chairs-office          furniture               56\n",
       "9             efc   chairs-office          furniture               52"
      ]
     },
     "execution_count": 4,
     "metadata": {},
     "output_type": "execute_result"
    }
   ],
   "source": [
    "brands = pd.read_csv(data_path('csv_example/brands.tsv'), sep='\\t').fillna('')\n",
    "brands.head(10)"
   ]
  },
  {
   "cell_type": "code",
   "execution_count": 5,
   "metadata": {
    "collapsed": true
   },
   "outputs": [],
   "source": [
    "grouped_brand = brands.groupby(['p_brand', 'pc_cat_name'])"
   ]
  },
  {
   "cell_type": "code",
   "execution_count": 6,
   "metadata": {
    "collapsed": true
   },
   "outputs": [],
   "source": [
    "grouped_brand_max = grouped_brand.agg({'count_occurence':'max'}).reset_index()"
   ]
  },
  {
   "cell_type": "code",
   "execution_count": 7,
   "metadata": {
    "collapsed": true
   },
   "outputs": [],
   "source": [
    "brand_max = grouped_brand_max.groupby(['p_brand']).first() \\\n",
    ".reset_index()\\\n",
    ".sort_values(by=['count_occurence'], ascending=0)"
   ]
  },
  {
   "cell_type": "code",
   "execution_count": 8,
   "metadata": {
    "collapsed": true
   },
   "outputs": [],
   "source": [
    "brand_max.to_csv(data_path('csv_example/gem_500.tsv'),sep='\\t', index=False)"
   ]
  },
  {
   "cell_type": "code",
   "execution_count": 9,
   "metadata": {
    "collapsed": false
   },
   "outputs": [
    {
     "data": {
      "text/html": [
       "<div>\n",
       "<table border=\"1\" class=\"dataframe\">\n",
       "  <thead>\n",
       "    <tr style=\"text-align: right;\">\n",
       "      <th></th>\n",
       "      <th>count_occurence</th>\n",
       "    </tr>\n",
       "  </thead>\n",
       "  <tbody>\n",
       "    <tr>\n",
       "      <th>count</th>\n",
       "      <td>44144.000000</td>\n",
       "    </tr>\n",
       "    <tr>\n",
       "      <th>mean</th>\n",
       "      <td>2.495968</td>\n",
       "    </tr>\n",
       "    <tr>\n",
       "      <th>std</th>\n",
       "      <td>8.822637</td>\n",
       "    </tr>\n",
       "    <tr>\n",
       "      <th>min</th>\n",
       "      <td>1.000000</td>\n",
       "    </tr>\n",
       "    <tr>\n",
       "      <th>25%</th>\n",
       "      <td>1.000000</td>\n",
       "    </tr>\n",
       "    <tr>\n",
       "      <th>50%</th>\n",
       "      <td>1.000000</td>\n",
       "    </tr>\n",
       "    <tr>\n",
       "      <th>75%</th>\n",
       "      <td>2.000000</td>\n",
       "    </tr>\n",
       "    <tr>\n",
       "      <th>max</th>\n",
       "      <td>828.000000</td>\n",
       "    </tr>\n",
       "  </tbody>\n",
       "</table>\n",
       "</div>"
      ],
      "text/plain": [
       "       count_occurence\n",
       "count     44144.000000\n",
       "mean          2.495968\n",
       "std           8.822637\n",
       "min           1.000000\n",
       "25%           1.000000\n",
       "50%           1.000000\n",
       "75%           2.000000\n",
       "max         828.000000"
      ]
     },
     "execution_count": 9,
     "metadata": {},
     "output_type": "execute_result"
    }
   ],
   "source": [
    "brand_max.describe()"
   ]
  },
  {
   "cell_type": "code",
   "execution_count": 10,
   "metadata": {
    "collapsed": false
   },
   "outputs": [
    {
     "data": {
      "text/html": [
       "<div>\n",
       "<table border=\"1\" class=\"dataframe\">\n",
       "  <thead>\n",
       "    <tr style=\"text-align: right;\">\n",
       "      <th></th>\n",
       "      <th>p_brand</th>\n",
       "      <th>pc_cat_name</th>\n",
       "      <th>count_occurence</th>\n",
       "    </tr>\n",
       "  </thead>\n",
       "  <tbody>\n",
       "    <tr>\n",
       "      <th>42598</th>\n",
       "      <td>voltas</td>\n",
       "      <td>Air Conditioner</td>\n",
       "      <td>828</td>\n",
       "    </tr>\n",
       "    <tr>\n",
       "      <th>24972</th>\n",
       "      <td>lenovo</td>\n",
       "      <td>All in one</td>\n",
       "      <td>474</td>\n",
       "    </tr>\n",
       "    <tr>\n",
       "      <th>20342</th>\n",
       "      <td>hp original cartriadge</td>\n",
       "      <td>printer ink cartridges</td>\n",
       "      <td>411</td>\n",
       "    </tr>\n",
       "    <tr>\n",
       "      <th>20343</th>\n",
       "      <td>hp original cartridge</td>\n",
       "      <td>printer ink cartridges</td>\n",
       "      <td>368</td>\n",
       "    </tr>\n",
       "    <tr>\n",
       "      <th>11307</th>\n",
       "      <td>dell</td>\n",
       "      <td>All in one</td>\n",
       "      <td>363</td>\n",
       "    </tr>\n",
       "  </tbody>\n",
       "</table>\n",
       "</div>"
      ],
      "text/plain": [
       "                      p_brand             pc_cat_name  count_occurence\n",
       "42598                  voltas         Air Conditioner              828\n",
       "24972                  lenovo              All in one              474\n",
       "20342  hp original cartriadge  printer ink cartridges              411\n",
       "20343   hp original cartridge  printer ink cartridges              368\n",
       "11307                    dell              All in one              363"
      ]
     },
     "execution_count": 10,
     "metadata": {},
     "output_type": "execute_result"
    }
   ],
   "source": [
    "brand_max.head()"
   ]
  },
  {
   "cell_type": "code",
   "execution_count": 11,
   "metadata": {
    "collapsed": false
   },
   "outputs": [
    {
     "data": {
      "text/html": [
       "<div>\n",
       "<table border=\"1\" class=\"dataframe\">\n",
       "  <thead>\n",
       "    <tr style=\"text-align: right;\">\n",
       "      <th></th>\n",
       "      <th>Cluster ID</th>\n",
       "      <th>confidence_score</th>\n",
       "      <th>p_brand</th>\n",
       "      <th>pc_cat_name</th>\n",
       "      <th>count_occurence</th>\n",
       "      <th>canonical_count_occurence</th>\n",
       "      <th>canonical_pc_cat_name</th>\n",
       "      <th>canonical_p_brand</th>\n",
       "    </tr>\n",
       "  </thead>\n",
       "  <tbody>\n",
       "    <tr>\n",
       "      <th>0</th>\n",
       "      <td>0</td>\n",
       "      <td>0.576558</td>\n",
       "      <td>voltas</td>\n",
       "      <td>Air Conditioner</td>\n",
       "      <td>828</td>\n",
       "      <td>10.0</td>\n",
       "      <td>air conditioner</td>\n",
       "      <td>voltas</td>\n",
       "    </tr>\n",
       "    <tr>\n",
       "      <th>1</th>\n",
       "      <td>1</td>\n",
       "      <td>0.564770</td>\n",
       "      <td>lenovo</td>\n",
       "      <td>All in one</td>\n",
       "      <td>474</td>\n",
       "      <td>15.0</td>\n",
       "      <td>desktops</td>\n",
       "      <td>lenovo</td>\n",
       "    </tr>\n",
       "    <tr>\n",
       "      <th>2</th>\n",
       "      <td>2</td>\n",
       "      <td>0.025881</td>\n",
       "      <td>hp original cartriadge</td>\n",
       "      <td>printer ink cartridges</td>\n",
       "      <td>411</td>\n",
       "      <td>104.0</td>\n",
       "      <td>printer ink cartridges</td>\n",
       "      <td>hp</td>\n",
       "    </tr>\n",
       "    <tr>\n",
       "      <th>3</th>\n",
       "      <td>2</td>\n",
       "      <td>0.028977</td>\n",
       "      <td>hp original cartridge</td>\n",
       "      <td>printer ink cartridges</td>\n",
       "      <td>368</td>\n",
       "      <td>104.0</td>\n",
       "      <td>printer ink cartridges</td>\n",
       "      <td>hp</td>\n",
       "    </tr>\n",
       "    <tr>\n",
       "      <th>4</th>\n",
       "      <td>92</td>\n",
       "      <td>0.535665</td>\n",
       "      <td>dell</td>\n",
       "      <td>All in one</td>\n",
       "      <td>363</td>\n",
       "      <td>11.0</td>\n",
       "      <td>desktops</td>\n",
       "      <td>dell</td>\n",
       "    </tr>\n",
       "  </tbody>\n",
       "</table>\n",
       "</div>"
      ],
      "text/plain": [
       "   Cluster ID  confidence_score                 p_brand  \\\n",
       "0           0          0.576558                  voltas   \n",
       "1           1          0.564770                  lenovo   \n",
       "2           2          0.025881  hp original cartriadge   \n",
       "3           2          0.028977   hp original cartridge   \n",
       "4          92          0.535665                    dell   \n",
       "\n",
       "              pc_cat_name  count_occurence  canonical_count_occurence  \\\n",
       "0         Air Conditioner              828                       10.0   \n",
       "1              All in one              474                       15.0   \n",
       "2  printer ink cartridges              411                      104.0   \n",
       "3  printer ink cartridges              368                      104.0   \n",
       "4              All in one              363                       11.0   \n",
       "\n",
       "    canonical_pc_cat_name canonical_p_brand  \n",
       "0         air conditioner           voltas   \n",
       "1                desktops           lenovo   \n",
       "2  printer ink cartridges               hp   \n",
       "3  printer ink cartridges               hp   \n",
       "4                desktops             dell   "
      ]
     },
     "execution_count": 11,
     "metadata": {},
     "output_type": "execute_result"
    }
   ],
   "source": [
    "brand_dedup = pd.read_csv(data_path('csv_example/gem_output.csv'))\n",
    "brand_dedup.head(5)"
   ]
  },
  {
   "cell_type": "code",
   "execution_count": 15,
   "metadata": {
    "collapsed": false
   },
   "outputs": [
    {
     "data": {
      "text/plain": [
       "15449"
      ]
     },
     "execution_count": 15,
     "metadata": {},
     "output_type": "execute_result"
    }
   ],
   "source": [
    "len(brand_dedup['Cluster ID'].unique())"
   ]
  },
  {
   "cell_type": "code",
   "execution_count": 16,
   "metadata": {
    "collapsed": false
   },
   "outputs": [
    {
     "data": {
      "text/plain": [
       "44143"
      ]
     },
     "execution_count": 16,
     "metadata": {},
     "output_type": "execute_result"
    }
   ],
   "source": [
    "len(brand_dedup)"
   ]
  },
  {
   "cell_type": "code",
   "execution_count": 17,
   "metadata": {
    "collapsed": true
   },
   "outputs": [],
   "source": [
    "b = brands\n",
    "b['all_categories'] = b['pc_cat_name']"
   ]
  },
  {
   "cell_type": "code",
   "execution_count": 18,
   "metadata": {
    "collapsed": true
   },
   "outputs": [],
   "source": [
    "z = b.groupby(['p_brand'])['all_categories'].apply(lambda x:\" | \".join(x)).reset_index()"
   ]
  },
  {
   "cell_type": "code",
   "execution_count": 19,
   "metadata": {
    "collapsed": false
   },
   "outputs": [
    {
     "data": {
      "text/html": [
       "<div>\n",
       "<table border=\"1\" class=\"dataframe\">\n",
       "  <thead>\n",
       "    <tr style=\"text-align: right;\">\n",
       "      <th></th>\n",
       "      <th>p_brand</th>\n",
       "      <th>all_categories</th>\n",
       "    </tr>\n",
       "  </thead>\n",
       "  <tbody>\n",
       "    <tr>\n",
       "      <th>0</th>\n",
       "      <td></td>\n",
       "      <td>Chappals | hospital biohazard bags or bio medi...</td>\n",
       "    </tr>\n",
       "    <tr>\n",
       "      <th>1</th>\n",
       "      <td>&amp;#x28;colin&amp;#x29;&amp;#x28;500ml&amp;#x29;</td>\n",
       "      <td>glass or window cleaners</td>\n",
       "    </tr>\n",
       "    <tr>\n",
       "      <th>2</th>\n",
       "      <td>&amp;#x28;dettol&amp;#x29;</td>\n",
       "      <td>liquid handwash</td>\n",
       "    </tr>\n",
       "    <tr>\n",
       "      <th>3</th>\n",
       "      <td>&amp;#x28;gainda&amp;#x29;&amp;#x28;5ltr&amp;#x29;</td>\n",
       "      <td>phenyl</td>\n",
       "    </tr>\n",
       "    <tr>\n",
       "      <th>4</th>\n",
       "      <td>&amp;#x28;hp-kay pee enterprises &amp;#x28;hp rsr&amp;#x29;</td>\n",
       "      <td>printer ink cartridges</td>\n",
       "    </tr>\n",
       "  </tbody>\n",
       "</table>\n",
       "</div>"
      ],
      "text/plain": [
       "                                           p_brand  \\\n",
       "0                                                    \n",
       "1               &#x28;colin&#x29;&#x28;500ml&#x29;   \n",
       "2                               &#x28;dettol&#x29;   \n",
       "3               &#x28;gainda&#x29;&#x28;5ltr&#x29;   \n",
       "4  &#x28;hp-kay pee enterprises &#x28;hp rsr&#x29;   \n",
       "\n",
       "                                      all_categories  \n",
       "0  Chappals | hospital biohazard bags or bio medi...  \n",
       "1                           glass or window cleaners  \n",
       "2                                    liquid handwash  \n",
       "3                                             phenyl  \n",
       "4                             printer ink cartridges  "
      ]
     },
     "execution_count": 19,
     "metadata": {},
     "output_type": "execute_result"
    }
   ],
   "source": [
    "z.head()"
   ]
  },
  {
   "cell_type": "code",
   "execution_count": 24,
   "metadata": {
    "collapsed": true
   },
   "outputs": [],
   "source": [
    "brand_other_cat = z"
   ]
  },
  {
   "cell_type": "code",
   "execution_count": 25,
   "metadata": {
    "collapsed": true
   },
   "outputs": [],
   "source": [
    "result = pd.merge(brand_dedup, brand_other_cat, on=['p_brand'])"
   ]
  },
  {
   "cell_type": "code",
   "execution_count": 26,
   "metadata": {
    "collapsed": false
   },
   "outputs": [
    {
     "data": {
      "text/plain": [
       "44143"
      ]
     },
     "execution_count": 26,
     "metadata": {},
     "output_type": "execute_result"
    }
   ],
   "source": [
    "len(result)"
   ]
  },
  {
   "cell_type": "code",
   "execution_count": 27,
   "metadata": {
    "collapsed": false,
    "scrolled": true
   },
   "outputs": [
    {
     "data": {
      "text/html": [
       "<div>\n",
       "<table border=\"1\" class=\"dataframe\">\n",
       "  <thead>\n",
       "    <tr style=\"text-align: right;\">\n",
       "      <th></th>\n",
       "      <th>Cluster ID</th>\n",
       "      <th>confidence_score</th>\n",
       "      <th>p_brand</th>\n",
       "      <th>pc_cat_name</th>\n",
       "      <th>count_occurence</th>\n",
       "      <th>canonical_count_occurence</th>\n",
       "      <th>canonical_pc_cat_name</th>\n",
       "      <th>canonical_p_brand</th>\n",
       "      <th>all_categories</th>\n",
       "    </tr>\n",
       "  </thead>\n",
       "  <tbody>\n",
       "    <tr>\n",
       "      <th>0</th>\n",
       "      <td>0</td>\n",
       "      <td>0.576558</td>\n",
       "      <td>voltas</td>\n",
       "      <td>Air Conditioner</td>\n",
       "      <td>828</td>\n",
       "      <td>10.0</td>\n",
       "      <td>air conditioner</td>\n",
       "      <td>voltas</td>\n",
       "      <td>Air Conditioner | automatic line voltage corre...</td>\n",
       "    </tr>\n",
       "    <tr>\n",
       "      <th>1</th>\n",
       "      <td>1</td>\n",
       "      <td>0.564770</td>\n",
       "      <td>lenovo</td>\n",
       "      <td>All in one</td>\n",
       "      <td>474</td>\n",
       "      <td>15.0</td>\n",
       "      <td>desktops</td>\n",
       "      <td>lenovo</td>\n",
       "      <td>All in one | bag kit universal | bar code read...</td>\n",
       "    </tr>\n",
       "    <tr>\n",
       "      <th>2</th>\n",
       "      <td>2</td>\n",
       "      <td>0.025881</td>\n",
       "      <td>hp original cartriadge</td>\n",
       "      <td>printer ink cartridges</td>\n",
       "      <td>411</td>\n",
       "      <td>104.0</td>\n",
       "      <td>printer ink cartridges</td>\n",
       "      <td>hp</td>\n",
       "      <td>printer ink cartridges</td>\n",
       "    </tr>\n",
       "  </tbody>\n",
       "</table>\n",
       "</div>"
      ],
      "text/plain": [
       "   Cluster ID  confidence_score                 p_brand  \\\n",
       "0           0          0.576558                  voltas   \n",
       "1           1          0.564770                  lenovo   \n",
       "2           2          0.025881  hp original cartriadge   \n",
       "\n",
       "              pc_cat_name  count_occurence  canonical_count_occurence  \\\n",
       "0         Air Conditioner              828                       10.0   \n",
       "1              All in one              474                       15.0   \n",
       "2  printer ink cartridges              411                      104.0   \n",
       "\n",
       "    canonical_pc_cat_name canonical_p_brand  \\\n",
       "0         air conditioner           voltas    \n",
       "1                desktops           lenovo    \n",
       "2  printer ink cartridges               hp    \n",
       "\n",
       "                                      all_categories  \n",
       "0  Air Conditioner | automatic line voltage corre...  \n",
       "1  All in one | bag kit universal | bar code read...  \n",
       "2                             printer ink cartridges  "
      ]
     },
     "execution_count": 27,
     "metadata": {},
     "output_type": "execute_result"
    }
   ],
   "source": [
    "result.head(3)"
   ]
  },
  {
   "cell_type": "code",
   "execution_count": 29,
   "metadata": {
    "collapsed": true
   },
   "outputs": [],
   "source": [
    "clusters = result.sort_values(['Cluster ID']).reset_index(drop=True)"
   ]
  },
  {
   "cell_type": "code",
   "execution_count": 32,
   "metadata": {
    "collapsed": false
   },
   "outputs": [],
   "source": [
    "# clusters.to_csv(data_path('csv_example/gem_output_merged.tsv'),sep='\\t', index=False)"
   ]
  },
  {
   "cell_type": "markdown",
   "metadata": {},
   "source": [
    "# Clustered output"
   ]
  },
  {
   "cell_type": "code",
   "execution_count": 33,
   "metadata": {
    "collapsed": false
   },
   "outputs": [
    {
     "data": {
      "text/html": [
       "<div>\n",
       "<table border=\"1\" class=\"dataframe\">\n",
       "  <thead>\n",
       "    <tr style=\"text-align: right;\">\n",
       "      <th></th>\n",
       "      <th>Cluster ID</th>\n",
       "      <th>confidence_score</th>\n",
       "      <th>p_brand</th>\n",
       "      <th>pc_cat_name</th>\n",
       "      <th>count_occurence</th>\n",
       "      <th>canonical_count_occurence</th>\n",
       "      <th>canonical_pc_cat_name</th>\n",
       "      <th>canonical_p_brand</th>\n",
       "      <th>all_categories</th>\n",
       "    </tr>\n",
       "  </thead>\n",
       "  <tbody>\n",
       "    <tr>\n",
       "      <th>0</th>\n",
       "      <td>0</td>\n",
       "      <td>0.576558</td>\n",
       "      <td>voltas</td>\n",
       "      <td>Air Conditioner</td>\n",
       "      <td>828</td>\n",
       "      <td>10.0</td>\n",
       "      <td>air conditioner</td>\n",
       "      <td>voltas</td>\n",
       "      <td>Air Conditioner | automatic line voltage corre...</td>\n",
       "    </tr>\n",
       "    <tr>\n",
       "      <th>1</th>\n",
       "      <td>0</td>\n",
       "      <td>0.119077</td>\n",
       "      <td>voltas 1 ton  window ac</td>\n",
       "      <td>Air Conditioner</td>\n",
       "      <td>1</td>\n",
       "      <td>10.0</td>\n",
       "      <td>air conditioner</td>\n",
       "      <td>voltas</td>\n",
       "      <td>Air Conditioner</td>\n",
       "    </tr>\n",
       "    <tr>\n",
       "      <th>2</th>\n",
       "      <td>0</td>\n",
       "      <td>0.140414</td>\n",
       "      <td>voltas 15 ml</td>\n",
       "      <td>Drinking Water Cooler</td>\n",
       "      <td>1</td>\n",
       "      <td>10.0</td>\n",
       "      <td>air conditioner</td>\n",
       "      <td>voltas</td>\n",
       "      <td>Drinking Water Cooler</td>\n",
       "    </tr>\n",
       "    <tr>\n",
       "      <th>3</th>\n",
       "      <td>0</td>\n",
       "      <td>0.143160</td>\n",
       "      <td>voltas - 5 star</td>\n",
       "      <td>Air Conditioner</td>\n",
       "      <td>1</td>\n",
       "      <td>10.0</td>\n",
       "      <td>air conditioner</td>\n",
       "      <td>voltas</td>\n",
       "      <td>Air Conditioner</td>\n",
       "    </tr>\n",
       "  </tbody>\n",
       "</table>\n",
       "</div>"
      ],
      "text/plain": [
       "   Cluster ID  confidence_score                  p_brand  \\\n",
       "0           0          0.576558                   voltas   \n",
       "1           0          0.119077  voltas 1 ton  window ac   \n",
       "2           0          0.140414             voltas 15 ml   \n",
       "3           0          0.143160          voltas - 5 star   \n",
       "\n",
       "             pc_cat_name  count_occurence  canonical_count_occurence  \\\n",
       "0        Air Conditioner              828                       10.0   \n",
       "1        Air Conditioner                1                       10.0   \n",
       "2  Drinking Water Cooler                1                       10.0   \n",
       "3        Air Conditioner                1                       10.0   \n",
       "\n",
       "  canonical_pc_cat_name canonical_p_brand  \\\n",
       "0       air conditioner           voltas    \n",
       "1       air conditioner           voltas    \n",
       "2       air conditioner           voltas    \n",
       "3       air conditioner           voltas    \n",
       "\n",
       "                                      all_categories  \n",
       "0  Air Conditioner | automatic line voltage corre...  \n",
       "1                                    Air Conditioner  \n",
       "2                              Drinking Water Cooler  \n",
       "3                                    Air Conditioner  "
      ]
     },
     "execution_count": 33,
     "metadata": {},
     "output_type": "execute_result"
    }
   ],
   "source": [
    "clusters.head(4)"
   ]
  },
  {
   "cell_type": "code",
   "execution_count": 34,
   "metadata": {
    "collapsed": false
   },
   "outputs": [
    {
     "data": {
      "text/plain": [
       "44143"
      ]
     },
     "execution_count": 34,
     "metadata": {},
     "output_type": "execute_result"
    }
   ],
   "source": [
    "len(clusters)"
   ]
  },
  {
   "cell_type": "code",
   "execution_count": 35,
   "metadata": {
    "collapsed": true
   },
   "outputs": [],
   "source": [
    "clusters['cluster_count'] = 1"
   ]
  },
  {
   "cell_type": "code",
   "execution_count": 36,
   "metadata": {
    "collapsed": true
   },
   "outputs": [],
   "source": [
    "grouped_clusters = clusters.groupby('Cluster ID')"
   ]
  },
  {
   "cell_type": "code",
   "execution_count": 37,
   "metadata": {
    "collapsed": false
   },
   "outputs": [
    {
     "data": {
      "text/plain": [
       "15449"
      ]
     },
     "execution_count": 37,
     "metadata": {},
     "output_type": "execute_result"
    }
   ],
   "source": [
    "len(grouped_clusters)"
   ]
  },
  {
   "cell_type": "code",
   "execution_count": 38,
   "metadata": {
    "collapsed": true
   },
   "outputs": [],
   "source": [
    "cluster_count_df = grouped_clusters.agg({'cluster_count': sum}).reset_index()"
   ]
  },
  {
   "cell_type": "code",
   "execution_count": 60,
   "metadata": {
    "collapsed": true
   },
   "outputs": [],
   "source": [
    "clusters.drop('cluster_count', axis=1, inplace=True)\n",
    "cluster_with_count = pd.merge(clusters, cluster_count_df, on=['Cluster ID'])"
   ]
  },
  {
   "cell_type": "code",
   "execution_count": 85,
   "metadata": {
    "collapsed": true
   },
   "outputs": [],
   "source": [
    "cluster_with_count['cluster_count'] = cluster_with_count['cluster_count'].apply(int)"
   ]
  },
  {
   "cell_type": "code",
   "execution_count": 102,
   "metadata": {
    "collapsed": true
   },
   "outputs": [],
   "source": [
    "def cleanse_brand(column):\n",
    "    if column:\n",
    "        column = column.lower()\n",
    "        column = re.sub(' by .*', ' ', column)\n",
    "        column = re.sub('&#.*;', ' ', column)\n",
    "        column = re.sub('[^0-9a-z ]', ' ', column)\n",
    "        column = column.strip()\n",
    "    return column\n",
    "\n",
    "cluster_with_count['brand_cleansed'] = cluster_with_count['p_brand'].apply(cleanse_brand)"
   ]
  },
  {
   "cell_type": "code",
   "execution_count": 103,
   "metadata": {
    "collapsed": false
   },
   "outputs": [
    {
     "data": {
      "text/html": [
       "<div>\n",
       "<style>\n",
       "    .dataframe thead tr:only-child th {\n",
       "        text-align: right;\n",
       "    }\n",
       "\n",
       "    .dataframe thead th {\n",
       "        text-align: left;\n",
       "    }\n",
       "\n",
       "    .dataframe tbody tr th {\n",
       "        vertical-align: top;\n",
       "    }\n",
       "</style>\n",
       "<table border=\"1\" class=\"dataframe\">\n",
       "  <thead>\n",
       "    <tr style=\"text-align: right;\">\n",
       "      <th></th>\n",
       "      <th>Cluster ID</th>\n",
       "      <th>confidence_score</th>\n",
       "      <th>p_brand</th>\n",
       "      <th>pc_cat_name</th>\n",
       "      <th>count_occurence</th>\n",
       "      <th>canonical_count_occurence</th>\n",
       "      <th>canonical_pc_cat_name</th>\n",
       "      <th>canonical_p_brand</th>\n",
       "      <th>all_categories</th>\n",
       "      <th>cluster_count</th>\n",
       "      <th>brand_cleansed</th>\n",
       "    </tr>\n",
       "  </thead>\n",
       "  <tbody>\n",
       "    <tr>\n",
       "      <th>0</th>\n",
       "      <td>0</td>\n",
       "      <td>0.666343</td>\n",
       "      <td>voltas</td>\n",
       "      <td>Air Conditioner</td>\n",
       "      <td>828</td>\n",
       "      <td>1.0</td>\n",
       "      <td>air conditioner</td>\n",
       "      <td>voltas</td>\n",
       "      <td>Air Conditioner | automatic line voltage corre...</td>\n",
       "      <td>27</td>\n",
       "      <td>voltas</td>\n",
       "    </tr>\n",
       "    <tr>\n",
       "      <th>1</th>\n",
       "      <td>0</td>\n",
       "      <td>0.676081</td>\n",
       "      <td>voltas-,-</td>\n",
       "      <td>Air Conditioner</td>\n",
       "      <td>5</td>\n",
       "      <td>1.0</td>\n",
       "      <td>air conditioner</td>\n",
       "      <td>voltas</td>\n",
       "      <td>Air Conditioner</td>\n",
       "      <td>27</td>\n",
       "      <td>voltas</td>\n",
       "    </tr>\n",
       "  </tbody>\n",
       "</table>\n",
       "</div>"
      ],
      "text/plain": [
       "   Cluster ID  confidence_score    p_brand      pc_cat_name  count_occurence  \\\n",
       "0           0          0.666343     voltas  Air Conditioner              828   \n",
       "1           0          0.676081  voltas-,-  Air Conditioner                5   \n",
       "\n",
       "   canonical_count_occurence canonical_pc_cat_name canonical_p_brand  \\\n",
       "0                        1.0       air conditioner           voltas    \n",
       "1                        1.0       air conditioner           voltas    \n",
       "\n",
       "                                      all_categories  cluster_count  \\\n",
       "0  Air Conditioner | automatic line voltage corre...             27   \n",
       "1                                    Air Conditioner             27   \n",
       "\n",
       "  brand_cleansed  \n",
       "0         voltas  \n",
       "1         voltas  "
      ]
     },
     "execution_count": 103,
     "metadata": {},
     "output_type": "execute_result"
    }
   ],
   "source": [
    "cluster_with_count.head(2)"
   ]
  },
  {
   "cell_type": "code",
   "execution_count": 104,
   "metadata": {
    "collapsed": false
   },
   "outputs": [
    {
     "data": {
      "text/plain": [
       "19716"
      ]
     },
     "execution_count": 104,
     "metadata": {},
     "output_type": "execute_result"
    }
   ],
   "source": [
    "single = cluster_with_count[cluster_with_count['cluster_count'] == 1]\n",
    "len(single)"
   ]
  },
  {
   "cell_type": "code",
   "execution_count": 99,
   "metadata": {
    "collapsed": false
   },
   "outputs": [
    {
     "data": {
      "text/plain": [
       "24427"
      ]
     },
     "execution_count": 99,
     "metadata": {},
     "output_type": "execute_result"
    }
   ],
   "source": [
    "family = cluster_with_count[cluster_with_count['cluster_count'] != 1]\n",
    "len(family)"
   ]
  },
  {
   "cell_type": "code",
   "execution_count": 100,
   "metadata": {
    "collapsed": false
   },
   "outputs": [
    {
     "data": {
      "text/html": [
       "<div>\n",
       "<style>\n",
       "    .dataframe thead tr:only-child th {\n",
       "        text-align: right;\n",
       "    }\n",
       "\n",
       "    .dataframe thead th {\n",
       "        text-align: left;\n",
       "    }\n",
       "\n",
       "    .dataframe tbody tr th {\n",
       "        vertical-align: top;\n",
       "    }\n",
       "</style>\n",
       "<table border=\"1\" class=\"dataframe\">\n",
       "  <thead>\n",
       "    <tr style=\"text-align: right;\">\n",
       "      <th></th>\n",
       "      <th>Cluster ID</th>\n",
       "      <th>confidence_score</th>\n",
       "      <th>p_brand</th>\n",
       "      <th>pc_cat_name</th>\n",
       "      <th>count_occurence</th>\n",
       "      <th>canonical_count_occurence</th>\n",
       "      <th>canonical_pc_cat_name</th>\n",
       "      <th>canonical_p_brand</th>\n",
       "      <th>all_categories</th>\n",
       "      <th>cluster_count</th>\n",
       "      <th>brand_cleansed</th>\n",
       "    </tr>\n",
       "  </thead>\n",
       "  <tbody>\n",
       "    <tr>\n",
       "      <th>24427</th>\n",
       "      <td>4831</td>\n",
       "      <td>NaN</td>\n",
       "      <td>addison</td>\n",
       "      <td>button bits for dth hammer for water well dril...</td>\n",
       "      <td>279</td>\n",
       "      <td>NaN</td>\n",
       "      <td>NaN</td>\n",
       "      <td>NaN</td>\n",
       "      <td>button bits for dth hammer for water well dril...</td>\n",
       "      <td>1</td>\n",
       "      <td>addison</td>\n",
       "    </tr>\n",
       "    <tr>\n",
       "      <th>24428</th>\n",
       "      <td>4832</td>\n",
       "      <td>NaN</td>\n",
       "      <td>lushomes</td>\n",
       "      <td>bathroom mat</td>\n",
       "      <td>191</td>\n",
       "      <td>NaN</td>\n",
       "      <td>NaN</td>\n",
       "      <td>NaN</td>\n",
       "      <td>bathroom mat | bedclothes rubberised coir matt...</td>\n",
       "      <td>1</td>\n",
       "      <td>lushomes</td>\n",
       "    </tr>\n",
       "  </tbody>\n",
       "</table>\n",
       "</div>"
      ],
      "text/plain": [
       "       Cluster ID  confidence_score   p_brand  \\\n",
       "24427        4831               NaN   addison   \n",
       "24428        4832               NaN  lushomes   \n",
       "\n",
       "                                             pc_cat_name  count_occurence  \\\n",
       "24427  button bits for dth hammer for water well dril...              279   \n",
       "24428                                       bathroom mat              191   \n",
       "\n",
       "       canonical_count_occurence canonical_pc_cat_name canonical_p_brand  \\\n",
       "24427                        NaN                   NaN               NaN   \n",
       "24428                        NaN                   NaN               NaN   \n",
       "\n",
       "                                          all_categories  cluster_count  \\\n",
       "24427  button bits for dth hammer for water well dril...              1   \n",
       "24428  bathroom mat | bedclothes rubberised coir matt...              1   \n",
       "\n",
       "      brand_cleansed  \n",
       "24427        addison  \n",
       "24428       lushomes  "
      ]
     },
     "execution_count": 100,
     "metadata": {},
     "output_type": "execute_result"
    }
   ],
   "source": [
    "single.to_csv('/root/dedupe-examples/csv_example/single.tsv',sep='\\t', index=False)\n",
    "single.head(2)"
   ]
  },
  {
   "cell_type": "code",
   "execution_count": 101,
   "metadata": {
    "collapsed": false
   },
   "outputs": [
    {
     "data": {
      "text/html": [
       "<div>\n",
       "<style>\n",
       "    .dataframe thead tr:only-child th {\n",
       "        text-align: right;\n",
       "    }\n",
       "\n",
       "    .dataframe thead th {\n",
       "        text-align: left;\n",
       "    }\n",
       "\n",
       "    .dataframe tbody tr th {\n",
       "        vertical-align: top;\n",
       "    }\n",
       "</style>\n",
       "<table border=\"1\" class=\"dataframe\">\n",
       "  <thead>\n",
       "    <tr style=\"text-align: right;\">\n",
       "      <th></th>\n",
       "      <th>Cluster ID</th>\n",
       "      <th>confidence_score</th>\n",
       "      <th>p_brand</th>\n",
       "      <th>pc_cat_name</th>\n",
       "      <th>count_occurence</th>\n",
       "      <th>canonical_count_occurence</th>\n",
       "      <th>canonical_pc_cat_name</th>\n",
       "      <th>canonical_p_brand</th>\n",
       "      <th>all_categories</th>\n",
       "      <th>cluster_count</th>\n",
       "      <th>brand_cleansed</th>\n",
       "    </tr>\n",
       "  </thead>\n",
       "  <tbody>\n",
       "    <tr>\n",
       "      <th>0</th>\n",
       "      <td>0</td>\n",
       "      <td>0.666343</td>\n",
       "      <td>voltas</td>\n",
       "      <td>Air Conditioner</td>\n",
       "      <td>828</td>\n",
       "      <td>1.0</td>\n",
       "      <td>air conditioner</td>\n",
       "      <td>voltas</td>\n",
       "      <td>Air Conditioner | automatic line voltage corre...</td>\n",
       "      <td>27</td>\n",
       "      <td>voltas</td>\n",
       "    </tr>\n",
       "    <tr>\n",
       "      <th>1</th>\n",
       "      <td>0</td>\n",
       "      <td>0.676081</td>\n",
       "      <td>voltas-,-</td>\n",
       "      <td>Air Conditioner</td>\n",
       "      <td>5</td>\n",
       "      <td>1.0</td>\n",
       "      <td>air conditioner</td>\n",
       "      <td>voltas</td>\n",
       "      <td>Air Conditioner</td>\n",
       "      <td>27</td>\n",
       "      <td>voltas</td>\n",
       "    </tr>\n",
       "  </tbody>\n",
       "</table>\n",
       "</div>"
      ],
      "text/plain": [
       "   Cluster ID  confidence_score    p_brand      pc_cat_name  count_occurence  \\\n",
       "0           0          0.666343     voltas  Air Conditioner              828   \n",
       "1           0          0.676081  voltas-,-  Air Conditioner                5   \n",
       "\n",
       "   canonical_count_occurence canonical_pc_cat_name canonical_p_brand  \\\n",
       "0                        1.0       air conditioner           voltas    \n",
       "1                        1.0       air conditioner           voltas    \n",
       "\n",
       "                                      all_categories  cluster_count  \\\n",
       "0  Air Conditioner | automatic line voltage corre...             27   \n",
       "1                                    Air Conditioner             27   \n",
       "\n",
       "  brand_cleansed  \n",
       "0         voltas  \n",
       "1      voltas     "
      ]
     },
     "execution_count": 101,
     "metadata": {},
     "output_type": "execute_result"
    }
   ],
   "source": [
    "family.to_csv('/root/dedupe-examples/csv_example/family.tsv',sep='\\t', index=False)\n",
    "family.head(2)"
   ]
  },
  {
   "cell_type": "markdown",
   "metadata": {},
   "source": [
    "# spurious\n",
    "\n",
    "### Cleaners\n",
    "* remove numbers\n",
    "\n",
    "### Filters\n",
    "* length < 3\n",
    "* no vowel single word\n",
    "\n",
    "\n"
   ]
  },
  {
   "cell_type": "code",
   "execution_count": 135,
   "metadata": {
    "collapsed": false
   },
   "outputs": [
    {
     "data": {
      "text/plain": [
       "'Hello '"
      ]
     },
     "execution_count": 135,
     "metadata": {},
     "output_type": "execute_result"
    }
   ],
   "source": [
    "re.sub(r'\\b[0-9]+\\b', '', 'Hello 1200')"
   ]
  },
  {
   "cell_type": "code",
   "execution_count": 136,
   "metadata": {
    "collapsed": true
   },
   "outputs": [],
   "source": [
    "def remove_number(s):\n",
    "    if s:\n",
    "        s = re.sub(r'\\b[0-9]+\\b', '', s)\n",
    "        s = re.sub(r'\\s+', ' ', s)\n",
    "        s = s.strip()\n",
    "    return s\n",
    "\n",
    "def length_less_than(s, n=3):\n",
    "    if s:\n",
    "        return len(s) < n\n",
    "    else:\n",
    "        return True\n",
    "\n",
    "def no_vowel(s):\n",
    "    for v in 'aeiou':\n",
    "        if v in s:\n",
    "            return False\n",
    "    return True\n",
    "\n",
    "def single_word(s):\n",
    "    if s:\n",
    "        return not ' ' in s\n",
    "    return False"
   ]
  },
  {
   "cell_type": "code",
   "execution_count": 137,
   "metadata": {
    "collapsed": false
   },
   "outputs": [
    {
     "data": {
      "text/plain": [
       "'Hello world gerigje'"
      ]
     },
     "execution_count": 137,
     "metadata": {},
     "output_type": "execute_result"
    }
   ],
   "source": [
    "remove_number('Hello world 32423 4324243 gerigje 234')"
   ]
  },
  {
   "cell_type": "code",
   "execution_count": 138,
   "metadata": {
    "collapsed": false
   },
   "outputs": [
    {
     "data": {
      "text/plain": [
       "True"
      ]
     },
     "execution_count": 138,
     "metadata": {},
     "output_type": "execute_result"
    }
   ],
   "source": [
    "single_word('gggggg') and no_vowel('gggggg')"
   ]
  },
  {
   "cell_type": "code",
   "execution_count": 151,
   "metadata": {
    "collapsed": true
   },
   "outputs": [],
   "source": [
    "single['brand_cleansed'] = single['brand_cleansed'].apply(remove_number)\n",
    "\n",
    "single['spurious'] = single['brand_cleansed'].apply(lambda x: single_word(x) and no_vowel(x))"
   ]
  },
  {
   "cell_type": "code",
   "execution_count": 152,
   "metadata": {
    "collapsed": false
   },
   "outputs": [
    {
     "data": {
      "text/plain": [
       "1722"
      ]
     },
     "execution_count": 152,
     "metadata": {},
     "output_type": "execute_result"
    }
   ],
   "source": [
    "len(single[single['spurious']])"
   ]
  },
  {
   "cell_type": "code",
   "execution_count": 153,
   "metadata": {
    "collapsed": false
   },
   "outputs": [
    {
     "data": {
      "text/plain": [
       "17994"
      ]
     },
     "execution_count": 153,
     "metadata": {},
     "output_type": "execute_result"
    }
   ],
   "source": [
    "len(single[~single['spurious']])"
   ]
  },
  {
   "cell_type": "code",
   "execution_count": 154,
   "metadata": {
    "collapsed": false
   },
   "outputs": [
    {
     "data": {
      "text/plain": [
       "Index([u'Cluster ID', u'confidence_score', u'p_brand', u'pc_cat_name',\n",
       "       u'count_occurence', u'canonical_count_occurence',\n",
       "       u'canonical_pc_cat_name', u'canonical_p_brand', u'all_categories',\n",
       "       u'cluster_count', u'brand_cleansed', u'spurious'],\n",
       "      dtype='object')"
      ]
     },
     "execution_count": 154,
     "metadata": {},
     "output_type": "execute_result"
    }
   ],
   "source": [
    "single.keys()"
   ]
  },
  {
   "cell_type": "code",
   "execution_count": 155,
   "metadata": {
    "collapsed": false,
    "scrolled": false
   },
   "outputs": [
    {
     "data": {
      "text/html": [
       "<div>\n",
       "<style>\n",
       "    .dataframe thead tr:only-child th {\n",
       "        text-align: right;\n",
       "    }\n",
       "\n",
       "    .dataframe thead th {\n",
       "        text-align: left;\n",
       "    }\n",
       "\n",
       "    .dataframe tbody tr th {\n",
       "        vertical-align: top;\n",
       "    }\n",
       "</style>\n",
       "<table border=\"1\" class=\"dataframe\">\n",
       "  <thead>\n",
       "    <tr style=\"text-align: right;\">\n",
       "      <th></th>\n",
       "      <th>p_brand</th>\n",
       "      <th>brand_cleansed</th>\n",
       "      <th>pc_cat_name</th>\n",
       "    </tr>\n",
       "  </thead>\n",
       "  <tbody>\n",
       "    <tr>\n",
       "      <th>24427</th>\n",
       "      <td>addison</td>\n",
       "      <td>addison</td>\n",
       "      <td>button bits for dth hammer for water well dril...</td>\n",
       "    </tr>\n",
       "    <tr>\n",
       "      <th>24428</th>\n",
       "      <td>lushomes</td>\n",
       "      <td>lushomes</td>\n",
       "      <td>bathroom mat</td>\n",
       "    </tr>\n",
       "    <tr>\n",
       "      <th>24429</th>\n",
       "      <td>h p - pioneer enterprises rsr dli</td>\n",
       "      <td>h p pioneer enterprises rsr dli</td>\n",
       "      <td>printer ink cartridges</td>\n",
       "    </tr>\n",
       "    <tr>\n",
       "      <th>24430</th>\n",
       "      <td>hp - sri jai media rsr</td>\n",
       "      <td>hp sri jai media rsr</td>\n",
       "      <td>printer ink cartridges</td>\n",
       "    </tr>\n",
       "    <tr>\n",
       "      <th>24431</th>\n",
       "      <td>radex</td>\n",
       "      <td>radex</td>\n",
       "      <td>Computer Paper</td>\n",
       "    </tr>\n",
       "    <tr>\n",
       "      <th>24432</th>\n",
       "      <td>canon-ascent-authorised reseller</td>\n",
       "      <td>canon ascent authorised reseller</td>\n",
       "      <td>printer ink cartridges</td>\n",
       "    </tr>\n",
       "    <tr>\n",
       "      <th>24433</th>\n",
       "      <td>whale</td>\n",
       "      <td>whale</td>\n",
       "      <td>Computer Paper</td>\n",
       "    </tr>\n",
       "    <tr>\n",
       "      <th>24434</th>\n",
       "      <td>pixaarnext</td>\n",
       "      <td>pixaarnext</td>\n",
       "      <td>Desktops</td>\n",
       "    </tr>\n",
       "    <tr>\n",
       "      <th>24435</th>\n",
       "      <td>heera</td>\n",
       "      <td>heera</td>\n",
       "      <td>Computer Paper</td>\n",
       "    </tr>\n",
       "    <tr>\n",
       "      <th>24436</th>\n",
       "      <td>sophos</td>\n",
       "      <td>sophos</td>\n",
       "      <td>networking devices</td>\n",
       "    </tr>\n",
       "    <tr>\n",
       "      <th>24437</th>\n",
       "      <td>vestar</td>\n",
       "      <td>vestar</td>\n",
       "      <td>Air Conditioner</td>\n",
       "    </tr>\n",
       "    <tr>\n",
       "      <th>24438</th>\n",
       "      <td>linc</td>\n",
       "      <td>linc</td>\n",
       "      <td>Ball Point Pen</td>\n",
       "    </tr>\n",
       "    <tr>\n",
       "      <th>24439</th>\n",
       "      <td>schifler</td>\n",
       "      <td>schifler</td>\n",
       "      <td>button bits for dth hammer for water well dril...</td>\n",
       "    </tr>\n",
       "    <tr>\n",
       "      <th>24440</th>\n",
       "      <td>rit</td>\n",
       "      <td>rit</td>\n",
       "      <td>networking devices</td>\n",
       "    </tr>\n",
       "    <tr>\n",
       "      <th>24441</th>\n",
       "      <td>rocket</td>\n",
       "      <td>rocket</td>\n",
       "      <td>lead acid battery</td>\n",
       "    </tr>\n",
       "    <tr>\n",
       "      <th>24442</th>\n",
       "      <td>optoma</td>\n",
       "      <td>optoma</td>\n",
       "      <td>Multimedia Projectors</td>\n",
       "    </tr>\n",
       "    <tr>\n",
       "      <th>24443</th>\n",
       "      <td>jvi</td>\n",
       "      <td>jvi</td>\n",
       "      <td>stainless steel bucket</td>\n",
       "    </tr>\n",
       "    <tr>\n",
       "      <th>24444</th>\n",
       "      <td>comforto</td>\n",
       "      <td>comforto</td>\n",
       "      <td>mattresses or sleep sets mattress kapok jss sp...</td>\n",
       "    </tr>\n",
       "    <tr>\n",
       "      <th>24445</th>\n",
       "      <td>newricoh</td>\n",
       "      <td>newricoh</td>\n",
       "      <td>printer ink cartridges</td>\n",
       "    </tr>\n",
       "    <tr>\n",
       "      <th>24446</th>\n",
       "      <td>hp - pioneer enterprises rsr dli</td>\n",
       "      <td>hp pioneer enterprises rsr dli</td>\n",
       "      <td>printer ink cartridges</td>\n",
       "    </tr>\n",
       "    <tr>\n",
       "      <th>24447</th>\n",
       "      <td>flair</td>\n",
       "      <td>flair</td>\n",
       "      <td>Ball Point Pen</td>\n",
       "    </tr>\n",
       "    <tr>\n",
       "      <th>24448</th>\n",
       "      <td>hp-ri-rsr</td>\n",
       "      <td>hp ri rsr</td>\n",
       "      <td>printer ink cartridges</td>\n",
       "    </tr>\n",
       "    <tr>\n",
       "      <th>24449</th>\n",
       "      <td>rivin</td>\n",
       "      <td>rivin</td>\n",
       "      <td>battery cell</td>\n",
       "    </tr>\n",
       "    <tr>\n",
       "      <th>24450</th>\n",
       "      <td>lg led</td>\n",
       "      <td>lg led</td>\n",
       "      <td>Television</td>\n",
       "    </tr>\n",
       "    <tr>\n",
       "      <th>24451</th>\n",
       "      <td>daiki</td>\n",
       "      <td>daiki</td>\n",
       "      <td>Digital Duplicators</td>\n",
       "    </tr>\n",
       "    <tr>\n",
       "      <th>24454</th>\n",
       "      <td>parryware</td>\n",
       "      <td>parryware</td>\n",
       "      <td>sinks and wash basins-Vitreous China</td>\n",
       "    </tr>\n",
       "    <tr>\n",
       "      <th>24455</th>\n",
       "      <td>hp-kce</td>\n",
       "      <td>hp kce</td>\n",
       "      <td>printer ink cartridges</td>\n",
       "    </tr>\n",
       "    <tr>\n",
       "      <th>24456</th>\n",
       "      <td>hamson</td>\n",
       "      <td>hamson</td>\n",
       "      <td>power cable for direct burial xlpe ugac cable</td>\n",
       "    </tr>\n",
       "    <tr>\n",
       "      <th>24457</th>\n",
       "      <td>hp-aispl-rsr</td>\n",
       "      <td>hp aispl rsr</td>\n",
       "      <td>printer ink cartridges</td>\n",
       "    </tr>\n",
       "    <tr>\n",
       "      <th>24458</th>\n",
       "      <td>vj interior</td>\n",
       "      <td>vj interior</td>\n",
       "      <td>chairs-office</td>\n",
       "    </tr>\n",
       "    <tr>\n",
       "      <th>...</th>\n",
       "      <td>...</td>\n",
       "      <td>...</td>\n",
       "      <td>...</td>\n",
       "    </tr>\n",
       "    <tr>\n",
       "      <th>44110</th>\n",
       "      <td>hdpe</td>\n",
       "      <td>hdpe</td>\n",
       "      <td>bags high density polyethylene hdpe or polypro...</td>\n",
       "    </tr>\n",
       "    <tr>\n",
       "      <th>44111</th>\n",
       "      <td>hdpe or  pp</td>\n",
       "      <td>hdpe or pp</td>\n",
       "      <td>bags high density polyethylene hdpe or polypro...</td>\n",
       "    </tr>\n",
       "    <tr>\n",
       "      <th>44112</th>\n",
       "      <td>hdmi 4 in 1</td>\n",
       "      <td>hdmi in</td>\n",
       "      <td>handset adapters</td>\n",
       "    </tr>\n",
       "    <tr>\n",
       "      <th>44113</th>\n",
       "      <td>hdmi - vga sje</td>\n",
       "      <td>hdmi vga sje</td>\n",
       "      <td>Multimedia Projectors</td>\n",
       "    </tr>\n",
       "    <tr>\n",
       "      <th>44114</th>\n",
       "      <td>hdmi</td>\n",
       "      <td>hdmi</td>\n",
       "      <td>Multimedia Projectors</td>\n",
       "    </tr>\n",
       "    <tr>\n",
       "      <th>44117</th>\n",
       "      <td>hdpe pallets</td>\n",
       "      <td>hdpe pallets</td>\n",
       "      <td>plastic pallet-Polypallet</td>\n",
       "    </tr>\n",
       "    <tr>\n",
       "      <th>44118</th>\n",
       "      <td>hdpe tarpaulins</td>\n",
       "      <td>hdpe tarpaulins</td>\n",
       "      <td>hdpe tarpaulins  in square mtrs</td>\n",
       "    </tr>\n",
       "    <tr>\n",
       "      <th>44119</th>\n",
       "      <td>hdyu</td>\n",
       "      <td>hdyu</td>\n",
       "      <td>hi speed camera- action camera</td>\n",
       "    </tr>\n",
       "    <tr>\n",
       "      <th>44120</th>\n",
       "      <td>heavy thick steel scale</td>\n",
       "      <td>heavy thick steel scale</td>\n",
       "      <td>scales (Steel scale)</td>\n",
       "    </tr>\n",
       "    <tr>\n",
       "      <th>44121</th>\n",
       "      <td>hello</td>\n",
       "      <td>hello</td>\n",
       "      <td>transparent tape</td>\n",
       "    </tr>\n",
       "    <tr>\n",
       "      <th>44122</th>\n",
       "      <td>helico international</td>\n",
       "      <td>helico international</td>\n",
       "      <td>universal pipette tips</td>\n",
       "    </tr>\n",
       "    <tr>\n",
       "      <th>44123</th>\n",
       "      <td>helico - hi-quik</td>\n",
       "      <td>helico hi quik</td>\n",
       "      <td>rapid test kits-Pregnancy</td>\n",
       "    </tr>\n",
       "    <tr>\n",
       "      <th>44124</th>\n",
       "      <td>helico</td>\n",
       "      <td>helico</td>\n",
       "      <td>rapid test kits-Pregnancy</td>\n",
       "    </tr>\n",
       "    <tr>\n",
       "      <th>44125</th>\n",
       "      <td>heitro</td>\n",
       "      <td>heitro</td>\n",
       "      <td>rubberised inflated boat</td>\n",
       "    </tr>\n",
       "    <tr>\n",
       "      <th>44126</th>\n",
       "      <td>heinemann</td>\n",
       "      <td>heinemann</td>\n",
       "      <td>diagnostic otoscope rechargeable set</td>\n",
       "    </tr>\n",
       "    <tr>\n",
       "      <th>44127</th>\n",
       "      <td>heine germany</td>\n",
       "      <td>heine germany</td>\n",
       "      <td>diagnostic otoscope rechargeable set</td>\n",
       "    </tr>\n",
       "    <tr>\n",
       "      <th>44128</th>\n",
       "      <td>heena</td>\n",
       "      <td>heena</td>\n",
       "      <td>phenyl</td>\n",
       "    </tr>\n",
       "    <tr>\n",
       "      <th>44129</th>\n",
       "      <td>heavyquality by saienter545</td>\n",
       "      <td>heavyquality</td>\n",
       "      <td>hammers</td>\n",
       "    </tr>\n",
       "    <tr>\n",
       "      <th>44130</th>\n",
       "      <td>heavyduty</td>\n",
       "      <td>heavyduty</td>\n",
       "      <td>almirah- Steel</td>\n",
       "    </tr>\n",
       "    <tr>\n",
       "      <th>44131</th>\n",
       "      <td>heavybroom by shobha009</td>\n",
       "      <td>heavybroom</td>\n",
       "      <td>brooms</td>\n",
       "    </tr>\n",
       "    <tr>\n",
       "      <th>44132</th>\n",
       "      <td>heal force brand</td>\n",
       "      <td>heal force brand</td>\n",
       "      <td>reverse osmosis water purifier-RO</td>\n",
       "    </tr>\n",
       "    <tr>\n",
       "      <th>44133</th>\n",
       "      <td>heavy plastic body- air cooler</td>\n",
       "      <td>heavy plastic body air cooler</td>\n",
       "      <td>Plastic  Body Evaporative Coolers-DESERT COOLER</td>\n",
       "    </tr>\n",
       "    <tr>\n",
       "      <th>44134</th>\n",
       "      <td>heavy  steel rack by ar</td>\n",
       "      <td>heavy steel rack</td>\n",
       "      <td>storage  cum filing cabinet</td>\n",
       "    </tr>\n",
       "    <tr>\n",
       "      <th>44135</th>\n",
       "      <td>heatsing pest</td>\n",
       "      <td>heatsing pest</td>\n",
       "      <td>connector mounting hardware-multi plug</td>\n",
       "    </tr>\n",
       "    <tr>\n",
       "      <th>44136</th>\n",
       "      <td>heat king</td>\n",
       "      <td>heat king</td>\n",
       "      <td>convection heaters- room heater, blower</td>\n",
       "    </tr>\n",
       "    <tr>\n",
       "      <th>44137</th>\n",
       "      <td>healthsense ps 126 ultra-lite personal scale grey</td>\n",
       "      <td>healthsense ps ultra lite personal scale grey</td>\n",
       "      <td>calibration weights or weight sets electronic-...</td>\n",
       "    </tr>\n",
       "    <tr>\n",
       "      <th>44138</th>\n",
       "      <td>healthplus</td>\n",
       "      <td>healthplus</td>\n",
       "      <td>patient stretchers</td>\n",
       "    </tr>\n",
       "    <tr>\n",
       "      <th>44139</th>\n",
       "      <td>healthgenie</td>\n",
       "      <td>healthgenie</td>\n",
       "      <td>acoustic stethoscope</td>\n",
       "    </tr>\n",
       "    <tr>\n",
       "      <th>44140</th>\n",
       "      <td>healfon</td>\n",
       "      <td>healfon</td>\n",
       "      <td>emergency iv infusion kit</td>\n",
       "    </tr>\n",
       "    <tr>\n",
       "      <th>44141</th>\n",
       "      <td>healcare</td>\n",
       "      <td>healcare</td>\n",
       "      <td>iv sets transfusion and infusion equipments</td>\n",
       "    </tr>\n",
       "  </tbody>\n",
       "</table>\n",
       "<p>17994 rows × 3 columns</p>\n",
       "</div>"
      ],
      "text/plain": [
       "                                                 p_brand  \\\n",
       "24427                                            addison   \n",
       "24428                                           lushomes   \n",
       "24429                  h p - pioneer enterprises rsr dli   \n",
       "24430                             hp - sri jai media rsr   \n",
       "24431                                              radex   \n",
       "24432                   canon-ascent-authorised reseller   \n",
       "24433                                              whale   \n",
       "24434                                         pixaarnext   \n",
       "24435                                              heera   \n",
       "24436                                             sophos   \n",
       "24437                                             vestar   \n",
       "24438                                               linc   \n",
       "24439                                           schifler   \n",
       "24440                                                rit   \n",
       "24441                                             rocket   \n",
       "24442                                             optoma   \n",
       "24443                                                jvi   \n",
       "24444                                           comforto   \n",
       "24445                                           newricoh   \n",
       "24446                   hp - pioneer enterprises rsr dli   \n",
       "24447                                              flair   \n",
       "24448                                          hp-ri-rsr   \n",
       "24449                                              rivin   \n",
       "24450                                             lg led   \n",
       "24451                                              daiki   \n",
       "24454                                          parryware   \n",
       "24455                                             hp-kce   \n",
       "24456                                             hamson   \n",
       "24457                                       hp-aispl-rsr   \n",
       "24458                                        vj interior   \n",
       "...                                                  ...   \n",
       "44110                                               hdpe   \n",
       "44111                                        hdpe or  pp   \n",
       "44112                                        hdmi 4 in 1   \n",
       "44113                                     hdmi - vga sje   \n",
       "44114                                               hdmi   \n",
       "44117                                       hdpe pallets   \n",
       "44118                                    hdpe tarpaulins   \n",
       "44119                                               hdyu   \n",
       "44120                            heavy thick steel scale   \n",
       "44121                                              hello   \n",
       "44122                               helico international   \n",
       "44123                                   helico - hi-quik   \n",
       "44124                                             helico   \n",
       "44125                                             heitro   \n",
       "44126                                          heinemann   \n",
       "44127                                      heine germany   \n",
       "44128                                              heena   \n",
       "44129                        heavyquality by saienter545   \n",
       "44130                                          heavyduty   \n",
       "44131                            heavybroom by shobha009   \n",
       "44132                                   heal force brand   \n",
       "44133                     heavy plastic body- air cooler   \n",
       "44134                            heavy  steel rack by ar   \n",
       "44135                                      heatsing pest   \n",
       "44136                                          heat king   \n",
       "44137  healthsense ps 126 ultra-lite personal scale grey   \n",
       "44138                                         healthplus   \n",
       "44139                                        healthgenie   \n",
       "44140                                            healfon   \n",
       "44141                                           healcare   \n",
       "\n",
       "                                      brand_cleansed  \\\n",
       "24427                                        addison   \n",
       "24428                                       lushomes   \n",
       "24429                h p pioneer enterprises rsr dli   \n",
       "24430                           hp sri jai media rsr   \n",
       "24431                                          radex   \n",
       "24432               canon ascent authorised reseller   \n",
       "24433                                          whale   \n",
       "24434                                     pixaarnext   \n",
       "24435                                          heera   \n",
       "24436                                         sophos   \n",
       "24437                                         vestar   \n",
       "24438                                           linc   \n",
       "24439                                       schifler   \n",
       "24440                                            rit   \n",
       "24441                                         rocket   \n",
       "24442                                         optoma   \n",
       "24443                                            jvi   \n",
       "24444                                       comforto   \n",
       "24445                                       newricoh   \n",
       "24446                 hp pioneer enterprises rsr dli   \n",
       "24447                                          flair   \n",
       "24448                                      hp ri rsr   \n",
       "24449                                          rivin   \n",
       "24450                                         lg led   \n",
       "24451                                          daiki   \n",
       "24454                                      parryware   \n",
       "24455                                         hp kce   \n",
       "24456                                         hamson   \n",
       "24457                                   hp aispl rsr   \n",
       "24458                                    vj interior   \n",
       "...                                              ...   \n",
       "44110                                           hdpe   \n",
       "44111                                     hdpe or pp   \n",
       "44112                                        hdmi in   \n",
       "44113                                   hdmi vga sje   \n",
       "44114                                           hdmi   \n",
       "44117                                   hdpe pallets   \n",
       "44118                                hdpe tarpaulins   \n",
       "44119                                           hdyu   \n",
       "44120                        heavy thick steel scale   \n",
       "44121                                          hello   \n",
       "44122                           helico international   \n",
       "44123                                 helico hi quik   \n",
       "44124                                         helico   \n",
       "44125                                         heitro   \n",
       "44126                                      heinemann   \n",
       "44127                                  heine germany   \n",
       "44128                                          heena   \n",
       "44129                                   heavyquality   \n",
       "44130                                      heavyduty   \n",
       "44131                                     heavybroom   \n",
       "44132                               heal force brand   \n",
       "44133                  heavy plastic body air cooler   \n",
       "44134                               heavy steel rack   \n",
       "44135                                  heatsing pest   \n",
       "44136                                      heat king   \n",
       "44137  healthsense ps ultra lite personal scale grey   \n",
       "44138                                     healthplus   \n",
       "44139                                    healthgenie   \n",
       "44140                                        healfon   \n",
       "44141                                       healcare   \n",
       "\n",
       "                                             pc_cat_name  \n",
       "24427  button bits for dth hammer for water well dril...  \n",
       "24428                                       bathroom mat  \n",
       "24429                             printer ink cartridges  \n",
       "24430                             printer ink cartridges  \n",
       "24431                                     Computer Paper  \n",
       "24432                             printer ink cartridges  \n",
       "24433                                     Computer Paper  \n",
       "24434                                           Desktops  \n",
       "24435                                     Computer Paper  \n",
       "24436                                 networking devices  \n",
       "24437                                    Air Conditioner  \n",
       "24438                                     Ball Point Pen  \n",
       "24439  button bits for dth hammer for water well dril...  \n",
       "24440                                 networking devices  \n",
       "24441                                  lead acid battery  \n",
       "24442                              Multimedia Projectors  \n",
       "24443                             stainless steel bucket  \n",
       "24444  mattresses or sleep sets mattress kapok jss sp...  \n",
       "24445                             printer ink cartridges  \n",
       "24446                             printer ink cartridges  \n",
       "24447                                     Ball Point Pen  \n",
       "24448                             printer ink cartridges  \n",
       "24449                                       battery cell  \n",
       "24450                                         Television  \n",
       "24451                                Digital Duplicators  \n",
       "24454               sinks and wash basins-Vitreous China  \n",
       "24455                             printer ink cartridges  \n",
       "24456      power cable for direct burial xlpe ugac cable  \n",
       "24457                             printer ink cartridges  \n",
       "24458                                      chairs-office  \n",
       "...                                                  ...  \n",
       "44110  bags high density polyethylene hdpe or polypro...  \n",
       "44111  bags high density polyethylene hdpe or polypro...  \n",
       "44112                                   handset adapters  \n",
       "44113                              Multimedia Projectors  \n",
       "44114                              Multimedia Projectors  \n",
       "44117                          plastic pallet-Polypallet  \n",
       "44118                    hdpe tarpaulins  in square mtrs  \n",
       "44119                     hi speed camera- action camera  \n",
       "44120                               scales (Steel scale)  \n",
       "44121                                   transparent tape  \n",
       "44122                             universal pipette tips  \n",
       "44123                          rapid test kits-Pregnancy  \n",
       "44124                          rapid test kits-Pregnancy  \n",
       "44125                           rubberised inflated boat  \n",
       "44126               diagnostic otoscope rechargeable set  \n",
       "44127               diagnostic otoscope rechargeable set  \n",
       "44128                                             phenyl  \n",
       "44129                                            hammers  \n",
       "44130                                     almirah- Steel  \n",
       "44131                                             brooms  \n",
       "44132                  reverse osmosis water purifier-RO  \n",
       "44133    Plastic  Body Evaporative Coolers-DESERT COOLER  \n",
       "44134                        storage  cum filing cabinet  \n",
       "44135             connector mounting hardware-multi plug  \n",
       "44136            convection heaters- room heater, blower  \n",
       "44137  calibration weights or weight sets electronic-...  \n",
       "44138                                 patient stretchers  \n",
       "44139                               acoustic stethoscope  \n",
       "44140                          emergency iv infusion kit  \n",
       "44141        iv sets transfusion and infusion equipments  \n",
       "\n",
       "[17994 rows x 3 columns]"
      ]
     },
     "execution_count": 155,
     "metadata": {},
     "output_type": "execute_result"
    }
   ],
   "source": [
    "single[~single['spurious']][['p_brand', 'brand_cleansed', 'pc_cat_name']]"
   ]
  },
  {
   "cell_type": "code",
   "execution_count": null,
   "metadata": {
    "collapsed": true
   },
   "outputs": [],
   "source": []
  }
 ],
 "metadata": {
  "kernelspec": {
   "display_name": "Python 2",
   "language": "python",
   "name": "python2"
  },
  "language_info": {
   "codemirror_mode": {
    "name": "ipython",
    "version": 2
   },
   "file_extension": ".py",
   "mimetype": "text/x-python",
   "name": "python",
   "nbconvert_exporter": "python",
   "pygments_lexer": "ipython2",
   "version": "2.7.13"
  }
 },
 "nbformat": 4,
 "nbformat_minor": 2
}
